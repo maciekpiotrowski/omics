{
  "cells": [
    {
      "cell_type": "markdown",
      "metadata": {
        "id": "Ip7I1GFeurYo"
      },
      "source": [
        "## Przygotowanie sesji Spark\n",
        "Zainicjowanie sesji Spark oraz stworzenie schematu bazy danych z której będziemy korzystać."
      ]
    },
    {
      "cell_type": "code",
      "execution_count": null,
      "metadata": {
        "id": "wHdgleLWurYp"
      },
      "outputs": [],
      "source": [
        "%env PYSPARK_SUBMIT_ARGS=--master local[*]  --jars /tmp/gcs-connector-hadoop2-1.9.17-shaded.jar,/tmp/google-cloud-nio-0.120.0-alpha-shaded.jar --conf spark.driver.port=29010 --conf spark.blockManager.port=29011  --conf spark.driver.host=jupyter-service- --conf spark.executorEnv.PYSPARK_PYTHON=python3 --packages org.biodatageeks:sequila_2.11:0.5.20,io.projectglow:glow-spark2_2.11:0.6.0,org.biodatageeks:seqtender_2.11:0.3.7 pyspark-shell\n"
      ]
    },
    {
      "cell_type": "code",
      "execution_count": null,
      "metadata": {
        "id": "Iqw7l4N1urYp"
      },
      "outputs": [],
      "source": [
        "from pyspark.sql import SparkSession\n",
        "spark = SparkSession \\\n",
        ".builder \\\n",
        ".master(\"local[2]\") \\\n",
        ".config(\"spark.driver.host\", \"localhost\") \\\n",
        ".config('spark.driver.memory','1g') \\\n",
        ".config('spark.executor.memory', '2g') \\\n",
        ".getOrCreate()"
      ]
    },
    {
      "cell_type": "markdown",
      "metadata": {
        "id": "ghdWya8FurYq"
      },
      "source": [
        "Pobranie sesji Spark jest proste dla programisty korzystającego z notatnika, wymaga podania tylko kilku parametrów, ale faktyczna konfiguracja jest bardziej rozbudowana"
      ]
    },
    {
      "cell_type": "code",
      "execution_count": null,
      "metadata": {
        "id": "-ZdNNhcCurYq"
      },
      "outputs": [],
      "source": [
        "import os\n",
        "args = os.environ['PYSPARK_SUBMIT_ARGS'].replace(\"  \", \"\\n\")\n",
        "print(args)"
      ]
    },
    {
      "cell_type": "markdown",
      "metadata": {
        "id": "d65U9w83urYq"
      },
      "source": [
        "Mamy pobraną sesję sparkową. Powstały dodatkowe pody gotowe na realizację obliczeń. A jak zwolnić te zasoby?"
      ]
    },
    {
      "cell_type": "code",
      "execution_count": null,
      "metadata": {
        "id": "sqvx297curYq"
      },
      "outputs": [],
      "source": [
        "spark.stop()"
      ]
    },
    {
      "cell_type": "markdown",
      "metadata": {
        "id": "unj0QrhturYq"
      },
      "source": [
        "Ponownie pobieramy sesję Spark. Będziemy z niej korzystać. Po zakończonej pracy należy pamiętać o zastopowaniu sesji."
      ]
    },
    {
      "cell_type": "code",
      "execution_count": null,
      "metadata": {
        "id": "_gBHgJJSurYq"
      },
      "outputs": [],
      "source": [
        "from pyspark.sql import SparkSession\n",
        "spark = SparkSession \\\n",
        ".builder \\\n",
        ".config('spark.driver.memory','1g') \\\n",
        ".config('spark.executor.memory', '2g') \\\n",
        ".getOrCreate()"
      ]
    },
    {
      "cell_type": "markdown",
      "metadata": {
        "id": "Pu6eT8wlurYq"
      },
      "source": [
        "## Odczyt danych\n",
        "Korzystając z sesji Spark można odczytać dane zapisane w lokalizacji dostępnej dla executorów (procesów obliczeniowych) koordynowanych przez Spark.\n",
        "Konieczne jest podanie ścieżki dostępowej do pliku i formatu danych (nie jest to jednoznazne z rozszerzeniem pliku).\n",
        "Dystrybucja Spark udostępnia kilka tzw Data Sources, które odczytują i zapisują dane w określonych formatach (CSV, formaty kolumnowe: parquet/orc).\n",
        "Data Sources zgodne z opracowanym interfejsem można samodzielnie tworzyć. Na dzisiejszych zajęciach będziemy korzystać z takich zdefiniowanych DS:\n",
        "* FASTQDataSource\n",
        "* BAMDataSource\n",
        "* VCFDataSource\n",
        "\n",
        "**UWAGA - powyższe sposoby odczytu plików nie są częścią głównej dystrybucji Spark. Wymagana jest dodatkowa konfiguracja.**"
      ]
    },
    {
      "cell_type": "code",
      "execution_count": null,
      "metadata": {
        "id": "RH8Sf7zsurYq"
      },
      "outputs": [],
      "source": [
        "import os                               # moduł OS języka Python\n",
        "user_name = os.environ.get('USER')      # pobieramy zmienną środowiskową USER\n",
        "bucket = f\"gs://edugen-common-data2\" # konstruujemy sciezke dostepowa do pliku\n",
        "print(bucket)"
      ]
    },
    {
      "cell_type": "code",
      "execution_count": null,
      "metadata": {
        "id": "pyLAuAYqurYq"
      },
      "outputs": [],
      "source": [
        "!gsutil ls gs://edugen-common-data2"
      ]
    },
    {
      "cell_type": "code",
      "execution_count": null,
      "metadata": {
        "id": "7mi3-YyGurYr"
      },
      "outputs": [],
      "source": [
        "! mkdir -p  data/fastq/"
      ]
    },
    {
      "cell_type": "code",
      "execution_count": null,
      "metadata": {
        "id": "bWoquPPDurYr"
      },
      "outputs": [],
      "source": [
        "!gsutil cp gs://edugen-common-data2/fastq/* data/fastq/"
      ]
    },
    {
      "cell_type": "markdown",
      "metadata": {
        "id": "RWQ97AWiurYr"
      },
      "source": [
        "---\n",
        "\n",
        "`Co oznacza f przed cudzysłowem?`\n",
        "\n",
        "`Czy jest różnica między stosowaniem apostrofu i cudzysłowu przy definicji zmiennych przechowywujących łańcuchy znaków?`"
      ]
    },
    {
      "cell_type": "code",
      "execution_count": null,
      "metadata": {
        "id": "BhKQN6RxurYr"
      },
      "outputs": [],
      "source": [
        "reads_path = f\"data/fastq/*\"  # * oznacza wszystkie pliki we wskazanej lokalizacji. Można podać konkretny plik\n",
        "fastq_all = spark.read.load(reads_path, format=\"org.biodatageeks.sequila.datasources.FASTQ.FASTQDataSource\")\n",
        "fastq_all = fastq_all.select(\"sample_id\",\"seq\", \"qual\")"
      ]
    },
    {
      "cell_type": "markdown",
      "metadata": {
        "id": "sflMkn_YurYr"
      },
      "source": [
        "### Weryfikacja danych"
      ]
    },
    {
      "cell_type": "code",
      "execution_count": null,
      "metadata": {
        "id": "vPq5Iw3FurYr"
      },
      "outputs": [],
      "source": [
        "type(fastq_all)      # jaki jest typ danych utworzonej zmiennej?"
      ]
    },
    {
      "cell_type": "code",
      "execution_count": null,
      "metadata": {
        "id": "KkjfirspurYr"
      },
      "outputs": [],
      "source": [
        "fastq_all.printSchema() # jaki jest schemat danych?"
      ]
    },
    {
      "cell_type": "code",
      "execution_count": null,
      "metadata": {
        "id": "rGI_hvG8urYr"
      },
      "outputs": [],
      "source": [
        "len(fastq_all.columns)           # wymiary (liczba kolumn)"
      ]
    },
    {
      "cell_type": "code",
      "execution_count": null,
      "metadata": {
        "id": "b8W_tEsmurYr"
      },
      "outputs": [],
      "source": [
        "fastq_all.count()               # wymiary (liczba wierszy)"
      ]
    },
    {
      "cell_type": "code",
      "execution_count": null,
      "metadata": {
        "id": "GfMbLImpurYr"
      },
      "outputs": [],
      "source": [
        "fastq_all.explain(True)              #  plan wykonania"
      ]
    },
    {
      "cell_type": "markdown",
      "metadata": {
        "id": "Yo_Res5VurYr"
      },
      "source": [
        "DataFrame jest abstrakcją nad innym typem danych (RDD), który jest podstawową rozproszoną strukturą danych. Poprzez DF możemy dostać się do rdd i zweryfikować na przykład liczbę partycji danych."
      ]
    },
    {
      "cell_type": "code",
      "execution_count": null,
      "metadata": {
        "id": "_MfhAemzurYr"
      },
      "outputs": [],
      "source": [
        "fastq_all.rdd.getNumPartitions() # liczba partycji (bloków danych)"
      ]
    },
    {
      "cell_type": "markdown",
      "metadata": {
        "id": "66DyRy1hurYr"
      },
      "source": [
        "### Podgląd danych"
      ]
    },
    {
      "cell_type": "code",
      "execution_count": null,
      "metadata": {
        "id": "l7eHdmDsurYr"
      },
      "outputs": [],
      "source": [
        "fastq_all.show()"
      ]
    },
    {
      "cell_type": "code",
      "execution_count": null,
      "metadata": {
        "id": "H6QNK_XnurYr"
      },
      "outputs": [],
      "source": [
        "fastq_all.show(5)  # pierwsze 5 wierszy"
      ]
    },
    {
      "cell_type": "code",
      "execution_count": null,
      "metadata": {
        "id": "c_Zou-IburYr"
      },
      "outputs": [],
      "source": [
        "fastq_all.show(truncate=False) # bez skracania zawartości kolumn"
      ]
    },
    {
      "cell_type": "markdown",
      "metadata": {
        "id": "ViHjlCT9urYr"
      },
      "source": [
        "Widok \"szerokich\" tabel jest nieczytelny, w kolejnych częściach warsztatów zaradzimy temu korzystając z dodatkowej biblioteki."
      ]
    },
    {
      "cell_type": "markdown",
      "metadata": {
        "id": "dWUS6XMZurYs"
      },
      "source": [
        "## Dostęp do wybranych danych"
      ]
    },
    {
      "cell_type": "markdown",
      "metadata": {
        "id": "CvrMJhuCurYs"
      },
      "source": [
        "#### Operacja projekcji (SELECT)"
      ]
    },
    {
      "cell_type": "code",
      "execution_count": null,
      "metadata": {
        "id": "jGrjMlgTurYs"
      },
      "outputs": [],
      "source": [
        "fastq_all.select(\"sample_id\").show()"
      ]
    },
    {
      "cell_type": "markdown",
      "metadata": {
        "id": "hFcroUweurYs"
      },
      "source": [
        "`Czy operacja select (sample_id) wpłynęła na oryginalny data frame fastq_all?`"
      ]
    },
    {
      "cell_type": "code",
      "execution_count": null,
      "metadata": {
        "id": "YFxUAhDiurYs"
      },
      "outputs": [],
      "source": [
        "fastq_all.printSchema()\n",
        "fastq_all.show()"
      ]
    },
    {
      "cell_type": "markdown",
      "metadata": {
        "id": "luuvDfKzurYs"
      },
      "source": [
        "Jeśli chcemy zachować wynik działania transformacji (w celu późniejszego wykorzystania) trzeba wynik zachować w zmiennej."
      ]
    },
    {
      "cell_type": "code",
      "execution_count": null,
      "metadata": {
        "id": "7Cg0Oo1kurYs"
      },
      "outputs": [],
      "source": [
        "fastq_sample_only = fastq_all.select(\"sample_id\")"
      ]
    },
    {
      "cell_type": "code",
      "execution_count": null,
      "metadata": {
        "id": "CgaWqy71urYs"
      },
      "outputs": [],
      "source": [
        "fastq_sample_only.printSchema()\n",
        "fastq_sample_only.show()"
      ]
    },
    {
      "cell_type": "code",
      "execution_count": null,
      "metadata": {
        "id": "wVAAKMfyurYs"
      },
      "outputs": [],
      "source": [
        "fastq_all.select(\"sample_id\",\"seq\").show()"
      ]
    },
    {
      "cell_type": "markdown",
      "metadata": {
        "id": "bgYz58h_urYs"
      },
      "source": [
        "Powiedzmy, że interesują nas wszystkie kolumny poza qual. Jak to zrobic? Można wylistować wszystkie kolumny poza qual, ale to uciazliwe. Mozna skorzystac z operacji drop."
      ]
    },
    {
      "cell_type": "code",
      "execution_count": null,
      "metadata": {
        "id": "gM594qLgurYs"
      },
      "outputs": [],
      "source": [
        "fastq_no_qual=fastq_all.drop('qual')"
      ]
    },
    {
      "cell_type": "markdown",
      "metadata": {
        "id": "MsJBzxvburYs"
      },
      "source": [
        "`Czy operacja usunięcia kolumny qual wpłynęła na oryginalny data frame fastq_all?`"
      ]
    },
    {
      "cell_type": "code",
      "execution_count": null,
      "metadata": {
        "id": "knyXe-MfurYs"
      },
      "outputs": [],
      "source": [
        "fastq_no_qual.printSchema()\n",
        "fastq_no_qual.show()"
      ]
    },
    {
      "cell_type": "markdown",
      "metadata": {
        "id": "sIU_Uc1xurYt"
      },
      "source": [
        "## Wartości unikalne\n",
        "Jeśli chcemy uzyskać unikalne wartości w określonych kolumnach korzystamy z metody distinct().\n",
        "Operacje na DF można łańcuchowo łączyć, zatem na wyniku działania select() można wywołać kolejne metody."
      ]
    },
    {
      "cell_type": "code",
      "execution_count": null,
      "metadata": {
        "id": "YFxTEH8DurYt"
      },
      "outputs": [],
      "source": [
        "fastq_all.select('sample_id').distinct().show()"
      ]
    },
    {
      "cell_type": "code",
      "execution_count": null,
      "metadata": {
        "id": "QWcLZD3murYt"
      },
      "outputs": [],
      "source": [
        "fastq_all.count()"
      ]
    },
    {
      "cell_type": "markdown",
      "metadata": {
        "id": "SdNjmpUlurYt"
      },
      "source": [
        "# Sortowanie\n",
        "\n",
        "Do sortowania służy metoda orderBy. Domyślne sortowanie jest rosnące."
      ]
    },
    {
      "cell_type": "code",
      "execution_count": null,
      "metadata": {
        "id": "lt2A9V-ourYt"
      },
      "outputs": [],
      "source": [
        "fastq_all.select('sample_id').distinct().orderBy('sample_id').show()"
      ]
    },
    {
      "cell_type": "code",
      "execution_count": null,
      "metadata": {
        "id": "xY7hrKhCurYt"
      },
      "outputs": [],
      "source": [
        "fastq_all.select('sample_id').distinct().orderBy('sample_id', ascending=False).show()"
      ]
    },
    {
      "cell_type": "code",
      "execution_count": null,
      "metadata": {
        "id": "lFJ5X8kpurYt"
      },
      "outputs": [],
      "source": [
        "fastq_all.orderBy('sample_id', 'seq', ascending=False).show()  # kierunek sortowania jest wspólny dla listy kolumn"
      ]
    },
    {
      "cell_type": "code",
      "execution_count": null,
      "metadata": {
        "id": "7pPsbiwqurYt"
      },
      "outputs": [],
      "source": [
        "fastq_all.orderBy('sample_id', ascending=False).orderBy('seq', ascending=True).show() # sortowanie malejace i rosnące na dwóch roznych kolumnach"
      ]
    },
    {
      "cell_type": "markdown",
      "metadata": {
        "id": "UEGzQeijurYt"
      },
      "source": [
        "### Filtrowanie wynikow\n",
        "Nasz zbiór danych posiada odczyty z 3 próbek. Ograniczmy się do wybranych próbek."
      ]
    },
    {
      "cell_type": "code",
      "execution_count": null,
      "metadata": {
        "id": "NsZ5FptDurYt"
      },
      "outputs": [],
      "source": [
        "fastq_mother = fastq_all.filter(\"sample_id = 'mother'\")"
      ]
    },
    {
      "cell_type": "markdown",
      "metadata": {
        "id": "tpbZRbddurYt"
      },
      "source": [
        "`Czy już odbył się odczyt danych z fastq?`"
      ]
    },
    {
      "cell_type": "code",
      "execution_count": null,
      "metadata": {
        "id": "VhPX949-urYt"
      },
      "outputs": [],
      "source": [
        "fastq_mother.show()"
      ]
    },
    {
      "cell_type": "code",
      "execution_count": null,
      "metadata": {
        "id": "VlCY05wzurYt"
      },
      "outputs": [],
      "source": [
        "fastq_mother.select('sample_id').distinct().show()"
      ]
    },
    {
      "cell_type": "code",
      "execution_count": null,
      "metadata": {
        "id": "WSAg56DturYt"
      },
      "outputs": [],
      "source": [
        "fastq_mother.count()"
      ]
    },
    {
      "cell_type": "markdown",
      "metadata": {
        "id": "lZRRTKS2urYt"
      },
      "source": [
        "Warunki można łączyć spójnikami logicznymi.\n",
        "Można używać\n",
        "* operatorów arytmetycznych (=, !=, >, >=, <, <=)\n",
        "* przynależności do zbioru (IN/NOT IN)\n",
        "* porównania znaków (LIKE/NOT LIKE)\n",
        "* przyrównania do wartości NULL (IS NULL/ IS NOT NULL)\n",
        "\n",
        "Przy korzystaniu z LIKE można użyć % jako oznaczenie dowolnego ciągu znaków.\n",
        "\n",
        "Konstrukcja warunku w metodzie filter() jak taka jak w klauzuli WHERE W SQL."
      ]
    },
    {
      "cell_type": "markdown",
      "metadata": {
        "id": "oPXlrQxZurYt"
      },
      "source": [
        "Pokaż odczyty spełniające warunek ze nazwa instrumentu jest pusta, run_id jest >=0 a odczyt zaczyna sie od liter GCA. Pokaz tylko kolumny z filtra oraz nazwe probki"
      ]
    },
    {
      "cell_type": "code",
      "execution_count": null,
      "metadata": {
        "id": "4wrznwj6urYt"
      },
      "outputs": [],
      "source": [
        "fastq_mother.filter('seq LIKE \"GCA%\"').select('sample_id',  'seq').show()"
      ]
    },
    {
      "cell_type": "code",
      "execution_count": null,
      "metadata": {
        "id": "Kr_E6Dn7urYt"
      },
      "outputs": [],
      "source": [
        "fastq_mother.select('sample_id', 'seq').filter('seq LIKE \"GCA%\"').show() # kolejnosc select i filter bez znaczenia"
      ]
    },
    {
      "cell_type": "markdown",
      "metadata": {
        "id": "02Y9KHhburYt"
      },
      "source": [
        "<div class=\"alert alert-block alert-warning\">\n",
        "\n",
        "<b>Zadanie 2_2:</b>Napisz polecenie które policzy ile jest rekordów dla próbki syna które spełniają warunki, że sekwencja odczytu konczy się na TGG a qual zaczyna się od ==. </div>\n",
        "\n"
      ]
    },
    {
      "cell_type": "code",
      "execution_count": null,
      "metadata": {
        "id": "9dEh5mgaurYt"
      },
      "outputs": [],
      "source": []
    },
    {
      "cell_type": "markdown",
      "metadata": {
        "id": "75HtoHGqurYt"
      },
      "source": [
        "## Używanie funkcji, kolumny wyliczane\n",
        "\n",
        "Dostępne są funkcje skalarne (przykład: ROUND, UPPER, CURRENT_DATE) oraz agregujące (MIN, MAX, AVG, SUM, COUNT).\n",
        "Niektóre funkcje są dostępne \"od razu\" bez dodatkowych poleceń import.\n",
        "Lista funkcji znajduje się : https://spark.apache.org/docs/latest/api/sql/index.html"
      ]
    },
    {
      "cell_type": "code",
      "execution_count": null,
      "metadata": {
        "id": "GnLezG2curYt"
      },
      "outputs": [],
      "source": [
        "fastq_all.selectExpr(\"*\").show()  # pokaż wszystkie kolumny tego DF"
      ]
    },
    {
      "cell_type": "markdown",
      "metadata": {
        "id": "SLaGLQyBurYu"
      },
      "source": [
        "Dodanie dwóch dodatkowych kolumn wyliczanych"
      ]
    },
    {
      "cell_type": "code",
      "execution_count": null,
      "metadata": {
        "id": "L380e6sxurYu"
      },
      "outputs": [],
      "source": [
        "fastq_all.selectExpr(\"*\", \"length(seq) as len_seq\", \"length(qual) as len_qual\" ).show() ## dodanie dwóch kolumn wyliczanych przy uzyciu funkcji LENGTH"
      ]
    },
    {
      "cell_type": "markdown",
      "metadata": {
        "id": "n-b79tACurYu"
      },
      "source": [
        "Alias - nadanie kolumnie lub kolumnie wyliczanej nazwy"
      ]
    },
    {
      "cell_type": "code",
      "execution_count": null,
      "metadata": {
        "id": "93CK6pnKurYu"
      },
      "outputs": [],
      "source": [
        "extended_fastq = fastq_all.selectExpr(\"*\", \"length(seq) as len_s\", \"length(qual) as len_q\" ) # AS alias"
      ]
    },
    {
      "cell_type": "code",
      "execution_count": null,
      "metadata": {
        "id": "fQ0mAfH4urYu"
      },
      "outputs": [],
      "source": [
        "extended_fastq.printSchema()"
      ]
    },
    {
      "cell_type": "markdown",
      "metadata": {
        "id": "ZEeitopZurYu"
      },
      "source": [
        "Dodanie nowej kolumny, dla każdego wiersza zostanie dodana wartość zwracana przez funkcję current_date()"
      ]
    },
    {
      "cell_type": "code",
      "execution_count": null,
      "metadata": {
        "id": "ItsdKcQMurYu"
      },
      "outputs": [],
      "source": [
        "from pyspark.sql.functions import current_date\n",
        "extended_fastq.withColumn (\"date\", current_date()).show()"
      ]
    },
    {
      "cell_type": "markdown",
      "metadata": {
        "id": "lrGspB-surYu"
      },
      "source": [
        "Dodanie kolumny o stałej wartości dla każdej wartości wymaga wykorzystania funkcji lit (), która przekształci stała wartość w kolumnę."
      ]
    },
    {
      "cell_type": "code",
      "execution_count": null,
      "metadata": {
        "id": "23VboCcpurYu"
      },
      "outputs": [],
      "source": [
        "from pyspark.sql.functions import lit\n",
        "\n",
        "extended_fastq.withColumn(\"imported_by\", lit(user_name)).withColumn(\"format\", lit('FASTQ')).show()"
      ]
    },
    {
      "cell_type": "markdown",
      "metadata": {
        "id": "wY3tx7KJurYu"
      },
      "source": [
        "<div class=\"alert alert-block alert-warning\">\n",
        "\n",
        "<b>Zadanie 2_3:</b>\n",
        "\n",
        "Napisz polecenie które stworzy ramkę danych zawierającą sklejenie wartości dwóch kolumn (sample_id) oraz daty eksperymentu (dodaj kolumne z wartościami 2019-01-15) . W wynikach chcemy mieć tylko dane matki i ojca. Kolumny wynikowe: nazwa próbki, seq, qual, data eksperymentu oraz scalona nazwa probki oraz data eksperymenty (np father-2019-01-15). Posortuj po nazwie próbki. Pokaż schemat ramki. Upewnij się, że data eksperymentu jest typu date.\n",
        "\n",
        "* Zwróć uwagę na potrzebę konwersji ciągu znaków na datę\n",
        "</div>\n"
      ]
    },
    {
      "cell_type": "code",
      "execution_count": null,
      "metadata": {
        "id": "cQ4uAt42urYu"
      },
      "outputs": [],
      "source": []
    },
    {
      "cell_type": "markdown",
      "metadata": {
        "id": "D0yTEe7WurYu"
      },
      "source": [
        "### Instrukcje warunkowe przy kolumnach wyliczanych"
      ]
    },
    {
      "cell_type": "code",
      "execution_count": null,
      "metadata": {
        "id": "D-BEgxo0urYu"
      },
      "outputs": [],
      "source": [
        "fastq_dates=fastq_all.selectExpr('*', 'if(sample_id = \"son\",to_date(\"2018-11-10\"), to_date(\"2019-01-15\")) as experiment_date')"
      ]
    },
    {
      "cell_type": "markdown",
      "metadata": {
        "id": "5ZFpw40nurYu"
      },
      "source": [
        "<div class=\"alert alert-block alert-warning\">\n",
        "<b>Zadanie 2_4:</b> Napisz polecenia, które zweryfikuje czy daty eksperymentów zostały dodane poprawnie </div>\n"
      ]
    },
    {
      "cell_type": "code",
      "execution_count": null,
      "metadata": {
        "id": "RuAD5OYyurYu"
      },
      "outputs": [],
      "source": []
    },
    {
      "cell_type": "markdown",
      "metadata": {
        "id": "A2YMsTmMurYu"
      },
      "source": [
        "## Grupowanie"
      ]
    },
    {
      "cell_type": "code",
      "execution_count": null,
      "metadata": {
        "id": "7aDg7nncurYu"
      },
      "outputs": [],
      "source": [
        "fastq_all.groupBy(\"sample_id\").show()"
      ]
    },
    {
      "cell_type": "code",
      "execution_count": null,
      "metadata": {
        "id": "GWK8kQGhurYu"
      },
      "outputs": [],
      "source": [
        "type(fastq_all.groupBy(\"sample_id\")) # to nie jest DF"
      ]
    },
    {
      "cell_type": "code",
      "execution_count": null,
      "metadata": {
        "id": "CIH6SOw1urYu"
      },
      "outputs": [],
      "source": [
        "sample_count=fastq_all.groupBy(\"sample_id\").count()"
      ]
    },
    {
      "cell_type": "code",
      "execution_count": null,
      "metadata": {
        "id": "u9gwywqZurYu"
      },
      "outputs": [],
      "source": [
        "type(sample_count)"
      ]
    },
    {
      "cell_type": "code",
      "execution_count": null,
      "metadata": {
        "id": "GU0uIs7eurYu"
      },
      "outputs": [],
      "source": [
        "sample_count.show()"
      ]
    },
    {
      "cell_type": "code",
      "execution_count": null,
      "metadata": {
        "id": "LNE1lC_curYu"
      },
      "outputs": [],
      "source": [
        "sample_count.orderBy(\"count\").show()"
      ]
    },
    {
      "cell_type": "markdown",
      "metadata": {
        "id": "A-kigk-5urYv"
      },
      "source": [
        "<div class=\"alert alert-block alert-warning\">\n",
        "<b>Zadanie 2_5:</b> Napisz funkcje, ktora znajdzie rozklady jakosci dla 1, 2, 3 i 4 pozycji odczytu.\n",
        "*Nastepnie zaprezentuj wyniki w postaci serii histogramów </div>"
      ]
    },
    {
      "cell_type": "code",
      "execution_count": null,
      "metadata": {
        "id": "V10m_O1DurYv"
      },
      "outputs": [],
      "source": []
    },
    {
      "cell_type": "markdown",
      "metadata": {
        "id": "cV-VR7jWurYv"
      },
      "source": [
        "### Mapowanie do genomu referencyjnego\n",
        "\n",
        "UWAGA - na dzisiejszych zajęciach ten kod nie będzie uruchamiany\n",
        "\n",
        "Wykonamy mapowanie do genomu referencyjnych korzystając z rozproszenia danych miedzy procesy obliczeniowe sparka."
      ]
    },
    {
      "cell_type": "markdown",
      "metadata": {
        "id": "3k4PqoRvurYv"
      },
      "source": [
        "Przygotowanie ścieżek do plików."
      ]
    },
    {
      "cell_type": "code",
      "execution_count": null,
      "metadata": {
        "id": "fMxAQp_BurYv"
      },
      "outputs": [],
      "source": [
        "#import os\n",
        "#user_name = os.environ.get('USER')\n",
        "#bucket = f\"gs://edugen-lab-{user_name}\"\n",
        "\n",
        "#reads_file_path = f\"{bucket}/fastq/mother.fastq\"\n",
        "#ref_path = \"/mnt/data/mapping/ref/ref.fasta\""
      ]
    },
    {
      "cell_type": "markdown",
      "metadata": {
        "id": "53CKvjD5urYv"
      },
      "source": [
        "Konstruujemy komendę, która będzie uruchamiana na procesach obliczeniowych. Potrzebne narzędzia muszą być dostępne na węzłach obliczeniowych."
      ]
    },
    {
      "cell_type": "code",
      "execution_count": null,
      "metadata": {
        "id": "NEC4-sIourYv"
      },
      "outputs": [],
      "source": [
        "#command = f'bwa mem -p {ref_path} - | samtools fixmate -m - - | samtools sort  | samtools markdup -r -S - -  | samtools addreplacerg  -r \"ID:S1\" -r \"SM:S1\"  -r \"PL:ILLUMINA\" - | samtools view -b -'"
      ]
    },
    {
      "cell_type": "markdown",
      "metadata": {
        "id": "HhFjo1ZEurYv"
      },
      "source": [
        "Żeby wykonać rozproszone obliczenia na danych genomicznych nalezy wykorzystac dodatkową bibliotekę."
      ]
    },
    {
      "cell_type": "code",
      "execution_count": null,
      "metadata": {
        "id": "haaENb4HurYv"
      },
      "outputs": [],
      "source": [
        "#from pyseqtender import SeqTenderAlignment\n",
        "\n",
        "#seq_aligner = SeqTenderAlignment(spark, reads_file_path, command)\n",
        "#alignments_rdd = seq_aligner.pipe_reads()"
      ]
    },
    {
      "cell_type": "markdown",
      "metadata": {
        "id": "o-n0WJ7GurYv"
      },
      "source": [
        "Zapisujemy plik na kubełek."
      ]
    },
    {
      "cell_type": "code",
      "execution_count": null,
      "metadata": {
        "id": "g3WT5pGMurYv"
      },
      "outputs": [],
      "source": [
        "#bam_file_path = f\"{bucket}/bam/mother10.bam\"\n",
        "#seq_aligner.save_reads(bam_file_path, alignments_rdd)"
      ]
    },
    {
      "cell_type": "code",
      "execution_count": null,
      "metadata": {
        "id": "MHZFTPokurYv"
      },
      "outputs": [],
      "source": [
        "#!gsutil ls gs://edugen-lab-$USER/bam"
      ]
    },
    {
      "cell_type": "markdown",
      "metadata": {
        "id": "TbBEmPpWurYv"
      },
      "source": [
        "<div class=\"alert alert-block alert-warning\">\n",
        "<b>Zadanie 2_6:</b> Na podstawie notatników z zajęć z genomiki wyświetl fragment pliku BAM w widge'cie IGV.  </div>\n",
        "\n"
      ]
    },
    {
      "cell_type": "code",
      "execution_count": null,
      "metadata": {
        "id": "dwIVDrnqurYv"
      },
      "outputs": [],
      "source": []
    },
    {
      "cell_type": "markdown",
      "metadata": {
        "id": "xneLHr9WurYv"
      },
      "source": [
        "Kończymy notatniki, należy zamknąć sesję."
      ]
    },
    {
      "cell_type": "code",
      "execution_count": null,
      "metadata": {
        "id": "no5sjVnFurYv"
      },
      "outputs": [],
      "source": [
        "spark.stop()"
      ]
    }
  ],
  "metadata": {
    "kernelspec": {
      "display_name": "edugen",
      "language": "python",
      "name": "edugen"
    },
    "language_info": {
      "codemirror_mode": {
        "name": "ipython",
        "version": 3
      },
      "file_extension": ".py",
      "mimetype": "text/x-python",
      "name": "python",
      "nbconvert_exporter": "python",
      "pygments_lexer": "ipython3",
      "version": "3.6.9"
    },
    "colab": {
      "provenance": []
    }
  },
  "nbformat": 4,
  "nbformat_minor": 0
}